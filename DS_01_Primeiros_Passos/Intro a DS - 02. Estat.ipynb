{
 "cells": [
  {
   "cell_type": "code",
   "execution_count": 9,
   "id": "942fe705",
   "metadata": {},
   "outputs": [
    {
     "data": {
      "text/html": [
       "<div>\n",
       "<style scoped>\n",
       "    .dataframe tbody tr th:only-of-type {\n",
       "        vertical-align: middle;\n",
       "    }\n",
       "\n",
       "    .dataframe tbody tr th {\n",
       "        vertical-align: top;\n",
       "    }\n",
       "\n",
       "    .dataframe thead th {\n",
       "        text-align: right;\n",
       "    }\n",
       "</style>\n",
       "<table border=\"1\" class=\"dataframe\">\n",
       "  <thead>\n",
       "    <tr style=\"text-align: right;\">\n",
       "      <th></th>\n",
       "      <th>filmeID</th>\n",
       "      <th>titulo</th>\n",
       "      <th>genero</th>\n",
       "    </tr>\n",
       "  </thead>\n",
       "  <tbody>\n",
       "    <tr>\n",
       "      <th>0</th>\n",
       "      <td>1</td>\n",
       "      <td>Toy Story (1995)</td>\n",
       "      <td>Adventure|Animation|Children|Comedy|Fantasy</td>\n",
       "    </tr>\n",
       "    <tr>\n",
       "      <th>1</th>\n",
       "      <td>2</td>\n",
       "      <td>Jumanji (1995)</td>\n",
       "      <td>Adventure|Children|Fantasy</td>\n",
       "    </tr>\n",
       "  </tbody>\n",
       "</table>\n",
       "</div>"
      ],
      "text/plain": [
       "   filmeID            titulo                                       genero\n",
       "0        1  Toy Story (1995)  Adventure|Animation|Children|Comedy|Fantasy\n",
       "1        2    Jumanji (1995)                   Adventure|Children|Fantasy"
      ]
     },
     "execution_count": 9,
     "metadata": {},
     "output_type": "execute_result"
    }
   ],
   "source": [
    "import pandas as pd\n",
    "filmes = pd.read_csv(\"movies.csv\")\n",
    "filmes.columns = [\"filmeID\", \"titulo\", \"genero\"]\n",
    "notas = pd.read_csv(\"ratings.csv\")\n",
    "filmes.head(2)"
   ]
  },
  {
   "cell_type": "code",
   "execution_count": 10,
   "id": "febe5ace",
   "metadata": {},
   "outputs": [
    {
     "data": {
      "text/html": [
       "<div>\n",
       "<style scoped>\n",
       "    .dataframe tbody tr th:only-of-type {\n",
       "        vertical-align: middle;\n",
       "    }\n",
       "\n",
       "    .dataframe tbody tr th {\n",
       "        vertical-align: top;\n",
       "    }\n",
       "\n",
       "    .dataframe thead th {\n",
       "        text-align: right;\n",
       "    }\n",
       "</style>\n",
       "<table border=\"1\" class=\"dataframe\">\n",
       "  <thead>\n",
       "    <tr style=\"text-align: right;\">\n",
       "      <th></th>\n",
       "      <th>usuarioID</th>\n",
       "      <th>filmeID</th>\n",
       "      <th>nota</th>\n",
       "      <th>momento</th>\n",
       "    </tr>\n",
       "  </thead>\n",
       "  <tbody>\n",
       "    <tr>\n",
       "      <th>0</th>\n",
       "      <td>1</td>\n",
       "      <td>1</td>\n",
       "      <td>4.0</td>\n",
       "      <td>964982703</td>\n",
       "    </tr>\n",
       "    <tr>\n",
       "      <th>1</th>\n",
       "      <td>1</td>\n",
       "      <td>3</td>\n",
       "      <td>4.0</td>\n",
       "      <td>964981247</td>\n",
       "    </tr>\n",
       "    <tr>\n",
       "      <th>2</th>\n",
       "      <td>1</td>\n",
       "      <td>6</td>\n",
       "      <td>4.0</td>\n",
       "      <td>964982224</td>\n",
       "    </tr>\n",
       "    <tr>\n",
       "      <th>3</th>\n",
       "      <td>1</td>\n",
       "      <td>47</td>\n",
       "      <td>5.0</td>\n",
       "      <td>964983815</td>\n",
       "    </tr>\n",
       "    <tr>\n",
       "      <th>4</th>\n",
       "      <td>1</td>\n",
       "      <td>50</td>\n",
       "      <td>5.0</td>\n",
       "      <td>964982931</td>\n",
       "    </tr>\n",
       "  </tbody>\n",
       "</table>\n",
       "</div>"
      ],
      "text/plain": [
       "   usuarioID  filmeID  nota    momento\n",
       "0          1        1   4.0  964982703\n",
       "1          1        3   4.0  964981247\n",
       "2          1        6   4.0  964982224\n",
       "3          1       47   5.0  964983815\n",
       "4          1       50   5.0  964982931"
      ]
     },
     "execution_count": 10,
     "metadata": {},
     "output_type": "execute_result"
    }
   ],
   "source": [
    "notas.columns = [\"usuarioID\", \"filmeID\", \"nota\", \"momento\"]\n",
    "notas.head()"
   ]
  },
  {
   "cell_type": "code",
   "execution_count": 45,
   "id": "086f94c2",
   "metadata": {},
   "outputs": [
    {
     "name": "stdout",
     "output_type": "stream",
     "text": [
      "Nota Média Toy Story = 3.921\n"
     ]
    }
   ],
   "source": [
    "nt_ts = notas.query(\"filmeID==1\").nota\n",
    "print(\"Nota Média Toy Story = %.3f\" % nt_ts.mean())"
   ]
  },
  {
   "cell_type": "code",
   "execution_count": 46,
   "id": "05ed4778",
   "metadata": {},
   "outputs": [
    {
     "name": "stdout",
     "output_type": "stream",
     "text": [
      "Nota Média Jumanji = 3.432\n"
     ]
    }
   ],
   "source": [
    "nt_ju = notas.query(\"filmeID==2\").nota\n",
    "print(\"Nota Média Jumanji = %.3f\" % nt_ju.mean())"
   ]
  },
  {
   "cell_type": "code",
   "execution_count": 49,
   "id": "e445427e",
   "metadata": {},
   "outputs": [
    {
     "name": "stdout",
     "output_type": "stream",
     "text": [
      "Nota Mediana Toy Story = 4.000\n",
      "Nota Mediana Jumanji = 3.500\n"
     ]
    }
   ],
   "source": [
    "print(\"Nota Mediana Toy Story = %.3f\" % nt_ts.median())\n",
    "print(\"Nota Mediana Jumanji = %.3f\" % nt_ju.median())"
   ]
  },
  {
   "cell_type": "code",
   "execution_count": 55,
   "id": "687a6792",
   "metadata": {},
   "outputs": [],
   "source": [
    "import numpy as np\n",
    "a1 = np.array([2.5] * 10)\n",
    "a2 = np.array([3.5] * 10) \n",
    "f1 = np.append(a1, a2)"
   ]
  },
  {
   "cell_type": "code",
   "execution_count": 108,
   "id": "bf109a75",
   "metadata": {},
   "outputs": [
    {
     "name": "stdout",
     "output_type": "stream",
     "text": [
      "mediana f1 =  3.0\n",
      "mediana f2 =  3.0\n",
      "média f1 =  3.0\n",
      "média f2 =  3.0\n",
      "desvio padrao f1 =  0.5\n",
      "desvio padrao f2 =  2.0\n"
     ]
    }
   ],
   "source": [
    "a3 = np.array([1] * 10)\n",
    "a4 = np.array([5] * 10) \n",
    "f2 = np.append(a3, a4)\n",
    "print(\"mediana f1 = \", np.median(f1))\n",
    "print(\"mediana f2 = \", np.median(f2))\n",
    "\n",
    "print(\"média f1 = \", f1.mean())\n",
    "print(\"média f2 = \", f2.mean())\n",
    "\n",
    "print(\"desvio padrao f1 = \", np.std(f1))\n",
    "print(\"desvio padrao f2 = \", np.std(f2))\n"
   ]
  },
  {
   "cell_type": "code",
   "execution_count": 70,
   "id": "8ed0b0ac",
   "metadata": {},
   "outputs": [
    {
     "data": {
      "text/plain": [
       "<seaborn.axisgrid.FacetGrid at 0x1dcdd7d2310>"
      ]
     },
     "execution_count": 70,
     "metadata": {},
     "output_type": "execute_result"
    },
    {
     "data": {
      "image/png": "[encoded data removed]",
      "text/plain": [
       "<Figure size 360x360 with 1 Axes>"
      ]
     },
     "metadata": {
      "needs_background": "light"
     },
     "output_type": "display_data"
    },
    {
     "data": {
      "image/png": "[encoded data removed]",
      "text/plain": [
       "<Figure size 360x360 with 1 Axes>"
      ]
     },
     "metadata": {
      "needs_background": "light"
     },
     "output_type": "display_data"
    }
   ],
   "source": [
    "import seaborn as sns\n",
    "sns.displot(f1) \n",
    "sns.displot(f2)"
   ]
  },
  {
   "cell_type": "code",
   "execution_count": 73,
   "id": "f764f10f",
   "metadata": {
    "scrolled": true
   },
   "outputs": [
    {
     "data": {
      "text/plain": [
       "(array([10.,  0.,  0.,  0.,  0.,  0.,  0.,  0.,  0., 10.]),\n",
       " array([1. , 1.4, 1.8, 2.2, 2.6, 3. , 3.4, 3.8, 4.2, 4.6, 5. ]),\n",
       " <BarContainer object of 10 artists>)"
      ]
     },
     "execution_count": 73,
     "metadata": {},
     "output_type": "execute_result"
    },
    {
     "data": {
      "image/png": "[encoded data removed]",
      "text/plain": [
       "<Figure size 432x288 with 1 Axes>"
      ]
     },
     "metadata": {
      "needs_background": "light"
     },
     "output_type": "display_data"
    }
   ],
   "source": [
    "import matplotlib.pyplot as plt\n",
    "plt.hist(f1)\n",
    "plt.hist(f2) #aqui os histogramas saem na MESMA figura"
   ]
  },
  {
   "cell_type": "code",
   "execution_count": 78,
   "id": "30a74b96",
   "metadata": {},
   "outputs": [
    {
     "name": "stderr",
     "output_type": "stream",
     "text": [
      "C:\\Users\\Intel\\anaconda3\\lib\\site-packages\\seaborn\\_decorators.py:36: FutureWarning: Pass the following variable as a keyword arg: x. From version 0.12, the only valid positional argument will be `data`, and passing other arguments without an explicit keyword will result in an error or misinterpretation.\n",
      "  warnings.warn(\n",
      "C:\\Users\\Intel\\anaconda3\\lib\\site-packages\\seaborn\\_decorators.py:36: FutureWarning: Pass the following variable as a keyword arg: x. From version 0.12, the only valid positional argument will be `data`, and passing other arguments without an explicit keyword will result in an error or misinterpretation.\n",
      "  warnings.warn(\n"
     ]
    },
    {
     "data": {
      "text/plain": [
       "<AxesSubplot:>"
      ]
     },
     "execution_count": 78,
     "metadata": {},
     "output_type": "execute_result"
    },
    {
     "data": {
      "image/png": "[encoded data removed]",
      "text/plain": [
       "<Figure size 432x288 with 1 Axes>"
      ]
     },
     "metadata": {
      "needs_background": "light"
     },
     "output_type": "display_data"
    }
   ],
   "source": [
    "sns.boxplot(f1)\n",
    "sns.boxplot(f2) #aqui os  BOXPLOT saem na mesma figura, mas não corretamente."
   ]
  },
  {
   "cell_type": "code",
   "execution_count": 81,
   "id": "cd92b1f4",
   "metadata": {},
   "outputs": [
    {
     "data": {
      "text/plain": [
       "{'whiskers': [<matplotlib.lines.Line2D at 0x1dcdfb7cc70>,\n",
       "  <matplotlib.lines.Line2D at 0x1dcdecc9550>,\n",
       "  <matplotlib.lines.Line2D at 0x1dcdf418f10>,\n",
       "  <matplotlib.lines.Line2D at 0x1dcdf418880>],\n",
       " 'caps': [<matplotlib.lines.Line2D at 0x1dcdd7599a0>,\n",
       "  <matplotlib.lines.Line2D at 0x1dcdd761e20>,\n",
       "  <matplotlib.lines.Line2D at 0x1dcdf418160>,\n",
       "  <matplotlib.lines.Line2D at 0x1dcde919ac0>],\n",
       " 'boxes': [<matplotlib.lines.Line2D at 0x1dcdfb7ce20>,\n",
       "  <matplotlib.lines.Line2D at 0x1dcdf418ee0>],\n",
       " 'medians': [<matplotlib.lines.Line2D at 0x1dcdf400910>,\n",
       "  <matplotlib.lines.Line2D at 0x1dcdf268910>],\n",
       " 'fliers': [<matplotlib.lines.Line2D at 0x1dcdf4003d0>,\n",
       "  <matplotlib.lines.Line2D at 0x1dcdf268520>],\n",
       " 'means': []}"
      ]
     },
     "execution_count": 81,
     "metadata": {},
     "output_type": "execute_result"
    },
    {
     "data": {
      "image/png": "[encoded data removed]",
      "text/plain": [
       "<Figure size 432x288 with 1 Axes>"
      ]
     },
     "metadata": {
      "needs_background": "light"
     },
     "output_type": "display_data"
    }
   ],
   "source": [
    "#precisa colocar dentro de um array dentro do PLT\n",
    "plt.boxplot([f1, f2])"
   ]
  },
  {
   "cell_type": "code",
   "execution_count": 83,
   "id": "3a738803",
   "metadata": {},
   "outputs": [
    {
     "name": "stderr",
     "output_type": "stream",
     "text": [
      "C:\\Users\\Intel\\anaconda3\\lib\\site-packages\\seaborn\\_decorators.py:36: FutureWarning: Pass the following variable as a keyword arg: x. From version 0.12, the only valid positional argument will be `data`, and passing other arguments without an explicit keyword will result in an error or misinterpretation.\n",
      "  warnings.warn(\n"
     ]
    },
    {
     "data": {
      "text/plain": [
       "<AxesSubplot:xlabel='nota'>"
      ]
     },
     "execution_count": 83,
     "metadata": {},
     "output_type": "execute_result"
    },
    {
     "data": {
      "image/png": "[encoded data removed]",
      "text/plain": [
       "<Figure size 432x288 with 1 Axes>"
      ]
     },
     "metadata": {
      "needs_background": "light"
     },
     "output_type": "display_data"
    }
   ],
   "source": [
    "sns.boxplot(nt_ts)"
   ]
  },
  {
   "cell_type": "code",
   "execution_count": 85,
   "id": "ba7ef1df",
   "metadata": {},
   "outputs": [
    {
     "name": "stderr",
     "output_type": "stream",
     "text": [
      "C:\\Users\\Intel\\anaconda3\\lib\\site-packages\\seaborn\\_decorators.py:36: FutureWarning: Pass the following variable as a keyword arg: x. From version 0.12, the only valid positional argument will be `data`, and passing other arguments without an explicit keyword will result in an error or misinterpretation.\n",
      "  warnings.warn(\n"
     ]
    },
    {
     "data": {
      "text/plain": [
       "<AxesSubplot:xlabel='nota'>"
      ]
     },
     "execution_count": 85,
     "metadata": {},
     "output_type": "execute_result"
    },
    {
     "data": {
      "image/png": "[encoded data removed]",
      "text/plain": [
       "<Figure size 432x288 with 1 Axes>"
      ]
     },
     "metadata": {
      "needs_background": "light"
     },
     "output_type": "display_data"
    }
   ],
   "source": [
    "sns.boxplot(nt_ju)"
   ]
  },
  {
   "cell_type": "code",
   "execution_count": 87,
   "id": "317f9bca",
   "metadata": {},
   "outputs": [
    {
     "data": {
      "text/plain": [
       "{'whiskers': [<matplotlib.lines.Line2D at 0x1dce0dee2b0>,\n",
       "  <matplotlib.lines.Line2D at 0x1dce0dee640>,\n",
       "  <matplotlib.lines.Line2D at 0x1dce0dfdbe0>,\n",
       "  <matplotlib.lines.Line2D at 0x1dce0dfdf10>],\n",
       " 'caps': [<matplotlib.lines.Line2D at 0x1dce0dee9d0>,\n",
       "  <matplotlib.lines.Line2D at 0x1dce0deed60>,\n",
       "  <matplotlib.lines.Line2D at 0x1dce0e062e0>,\n",
       "  <matplotlib.lines.Line2D at 0x1dce0e06670>],\n",
       " 'boxes': [<matplotlib.lines.Line2D at 0x1dce0de0ee0>,\n",
       "  <matplotlib.lines.Line2D at 0x1dce0dfd850>],\n",
       " 'medians': [<matplotlib.lines.Line2D at 0x1dce0dfd130>,\n",
       "  <matplotlib.lines.Line2D at 0x1dce0e06a00>],\n",
       " 'fliers': [<matplotlib.lines.Line2D at 0x1dce0dfd4c0>,\n",
       "  <matplotlib.lines.Line2D at 0x1dce0e06d90>],\n",
       " 'means': []}"
      ]
     },
     "execution_count": 87,
     "metadata": {},
     "output_type": "execute_result"
    },
    {
     "data": {
      "image/png": "[encoded data removed]",
      "text/plain": [
       "<Figure size 432x288 with 1 Axes>"
      ]
     },
     "metadata": {
      "needs_background": "light"
     },
     "output_type": "display_data"
    }
   ],
   "source": [
    "#COMO NÃO PODEMOS COLOCAR OS DOIS JUNTOS, MELHOR USAR A BIBLIO PLT\n",
    "plt.boxplot([nt_ts, nt_ju])"
   ]
  },
  {
   "cell_type": "code",
   "execution_count": 100,
   "id": "5ef2bc2d",
   "metadata": {},
   "outputs": [
    {
     "data": {
      "text/plain": [
       "<AxesSubplot:xlabel='filmeID', ylabel='nota'>"
      ]
     },
     "execution_count": 100,
     "metadata": {},
     "output_type": "execute_result"
    },
    {
     "data": {
      "image/png": "[encoded data removed]",
      "text/plain": [
       "<Figure size 432x288 with 1 Axes>"
      ]
     },
     "metadata": {
      "needs_background": "light"
     },
     "output_type": "display_data"
    }
   ],
   "source": [
    "#NO BOXPLOT DO SEABORN ELE PODE RECEBER TODAS AS NOTAS\n",
    "#sns.boxplot(x = \"filmeID\", y = \"nota\", data = notas)\n",
    "#DO JEITO QUE ESTÁ EM CIMA FARIA UM BOXPLOT PARA CADA FILME. ENTÃO FILTRAMOS\n",
    "\n",
    "sns.boxplot(x = \"filmeID\", y = \"nota\", data = notas.query(\"filmeID in [1,2]\"))"
   ]
  },
  {
   "cell_type": "code",
   "execution_count": 104,
   "id": "2d194367",
   "metadata": {},
   "outputs": [
    {
     "name": "stdout",
     "output_type": "stream",
     "text": [
      "Desvio padrao do Toy Story = 0.8348591407114045\n"
     ]
    }
   ],
   "source": [
    "print(\"Desvio padrao do Toy Story =\", nt_ts.std())"
   ]
  },
  {
   "cell_type": "code",
   "execution_count": 105,
   "id": "ca3568db",
   "metadata": {},
   "outputs": [
    {
     "name": "stdout",
     "output_type": "stream",
     "text": [
      "Desvio padrao do Jumanji = 0.8817134921476455\n"
     ]
    }
   ],
   "source": [
    "print(\"Desvio padrao do Jumanji =\", nt_ju.std())"
   ]
  }
 ],
 "metadata": {
  "kernelspec": {
   "display_name": "Python 3 (ipykernel)",
   "language": "python",
   "name": "python3"
  },
  "language_info": {
   "codemirror_mode": {
    "name": "ipython",
    "version": 3
   },
   "file_extension": ".py",
   "mimetype": "text/x-python",
   "name": "python",
   "nbconvert_exporter": "python",
   "pygments_lexer": "ipython3",
   "version": "3.9.7"
  }
 },
 "nbformat": 4,
 "nbformat_minor": 5
}
